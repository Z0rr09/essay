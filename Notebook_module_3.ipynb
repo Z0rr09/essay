{
  "nbformat": 4,
  "nbformat_minor": 0,
  "metadata": {
    "colab": {
      "provenance": [],
      "authorship_tag": "ABX9TyO1ADIC4ttvfxZkoZ/1vrD7",
      "include_colab_link": true
    },
    "kernelspec": {
      "name": "python3",
      "display_name": "Python 3"
    },
    "language_info": {
      "name": "python"
    }
  },
  "cells": [
    {
      "cell_type": "markdown",
      "metadata": {
        "id": "view-in-github",
        "colab_type": "text"
      },
      "source": [
        "<a href=\"https://colab.research.google.com/github/Z0rr09/essay/blob/esaaa/Notebook_module_3.ipynb\" target=\"_parent\"><img src=\"https://colab.research.google.com/assets/colab-badge.svg\" alt=\"Open In Colab\"/></a>"
      ]
    },
    {
      "cell_type": "code",
      "execution_count": null,
      "metadata": {
        "id": "OZ29NQobT8Aa"
      },
      "outputs": [],
      "source": [
        "hallo\n"
      ]
    },
    {
      "cell_type": "markdown",
      "source": [
        "ca va ?\n"
      ],
      "metadata": {
        "id": "sVlaWa0rUNez"
      }
    }
  ]
}